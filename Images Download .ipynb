{
 "cells": [
  {
   "cell_type": "code",
   "execution_count": null,
   "metadata": {},
   "outputs": [],
   "source": [
    "import urllib.request"
   ]
  },
  {
   "cell_type": "code",
   "execution_count": null,
   "metadata": {},
   "outputs": [],
   "source": [
    "crimefile1 = open(\"crops_url_list.txt\", 'r')\n",
    "yourResult1 = [line.strip() for line in crimefile1.readlines()]\n",
    "count = len(yourResult1)"
   ]
  },
  {
   "cell_type": "code",
   "execution_count": null,
   "metadata": {},
   "outputs": [],
   "source": [
    "def image_request(url, file):\n",
    "    response = urllib.request.urlopen(url)\n",
    "    fh = open(file, \"wb\") #open the file for writing\n",
    "    fh.write(response.read()) \n",
    "    \n",
    "for i, url in enumerate(yourResult1):\n",
    "    image_request(url, \"image_name_\" + str(i) + \".jpg\")"
   ]
  },
  {
   "cell_type": "code",
   "execution_count": null,
   "metadata": {},
   "outputs": [],
   "source": [
    "crimefile2 = open(\"crops_url_list.txt\", 'r')\n",
    "yourResult2 = [line.strip() for line in crimefile2.readlines()]\n",
    "count = len(yourResult2)"
   ]
  },
  {
   "cell_type": "code",
   "execution_count": null,
   "metadata": {},
   "outputs": [],
   "source": [
    "def image_request(url, file):\n",
    "    response = urllib.request.urlopen(url)\n",
    "    fh = open(file, \"wb\") #open the file for writing\n",
    "    fh.write(response.read()) \n",
    "    \n",
    "for i, url in enumerate(yourResult2):\n",
    "    image_request(url, \"crop_name_\" + str(i) + \".jpg\")"
   ]
  }
 ],
 "metadata": {
  "kernelspec": {
   "display_name": "Python 3",
   "language": "python",
   "name": "python3"
  },
  "language_info": {
   "codemirror_mode": {
    "name": "ipython",
    "version": 3
   },
   "file_extension": ".py",
   "mimetype": "text/x-python",
   "name": "python",
   "nbconvert_exporter": "python",
   "pygments_lexer": "ipython3",
   "version": "3.6.8"
  }
 },
 "nbformat": 4,
 "nbformat_minor": 2
}
